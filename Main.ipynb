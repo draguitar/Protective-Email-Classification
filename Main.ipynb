{
 "cells": [
  {
   "cell_type": "code",
   "execution_count": 7,
   "metadata": {},
   "outputs": [],
   "source": [
    "import tensorflow as tf\n",
    "import os\n",
    "os.environ[\"CUDA_DEVICE_ORDER\"] = \"PCI_BUS_ID\"\n",
    "# 指定GPU\n",
    "os.environ[\"CUDA_VISIBLE_DEVICES\"] = \"0,1\""
   ]
  },
  {
   "cell_type": "code",
   "execution_count": 8,
   "metadata": {},
   "outputs": [
    {
     "name": "stderr",
     "output_type": "stream",
     "text": [
      "Using TensorFlow backend.\n"
     ]
    }
   ],
   "source": [
    "from sklearn.feature_extraction.text import TfidfVectorizer\n",
    "from sklearn.cluster import KMeans\n",
    "from sklearn.cluster import AgglomerativeClustering\n",
    "import numpy as np\n",
    "np.random.seed(10)\n",
    "\n",
    "import matplotlib.pyplot as plt\n",
    "from sklearn.neighbors import KNeighborsClassifier\n",
    "from sklearn.linear_model import LogisticRegression\n",
    "from sklearn.ensemble import (RandomTreesEmbedding, RandomForestClassifier,\n",
    "                              GradientBoostingClassifier)\n",
    "from sklearn.preprocessing import OneHotEncoder\n",
    "from sklearn.model_selection import train_test_split\n",
    "from sklearn.metrics import roc_curve\n",
    "from sklearn.pipeline import make_pipeline\n",
    "from sklearn.metrics import recall_score,precision_score,accuracy_score\n",
    "from sklearn.metrics import confusion_matrix\n",
    "\n",
    "import seaborn as sns \n",
    "\n",
    "import pandas as pd\n",
    "\n",
    "from sklearn import svm\n",
    "\n",
    "import datetime\n",
    "\n",
    "from keras.models import Sequential\n",
    "from keras.layers import Dense, Dropout\n",
    "from keras.layers import Embedding\n",
    "from keras.layers import LSTM"
   ]
  },
  {
   "cell_type": "code",
   "execution_count": 9,
   "metadata": {},
   "outputs": [],
   "source": [
    "starttime = datetime.datetime.now()"
   ]
  },
  {
   "cell_type": "code",
   "execution_count": 10,
   "metadata": {},
   "outputs": [],
   "source": [
    "import re\n",
    "import numpy as np\n",
    "chn_pattern =\"[\\u4e00-\\u9fa5]+\"\n",
    "regex_chn = re.compile(chn_pattern)"
   ]
  },
  {
   "cell_type": "code",
   "execution_count": 11,
   "metadata": {},
   "outputs": [],
   "source": [
    "c_path = './data/email_2017.txt'\n",
    "b_path = './data/fake_email.txt'\n",
    "# unknown_path = './data/email_2017.txt'\n",
    "stop_words_path = './data/stopwords.txt'"
   ]
  },
  {
   "cell_type": "code",
   "execution_count": 12,
   "metadata": {},
   "outputs": [],
   "source": [
    "def load_stop_words():\n",
    "    stop_words_vec = []\n",
    "    with open(stop_words_path,'r') as f:\n",
    "        for line in f.readlines():\n",
    "            stop_words_vec.append(line.strip('\\n'))\n",
    "    return stop_words_vec"
   ]
  },
  {
   "cell_type": "code",
   "execution_count": 13,
   "metadata": {},
   "outputs": [],
   "source": [
    "def parser(path,security_group):\n",
    "    line_vec = [];group=[]\n",
    "    with open(path,'r',encoding='utf8') as f:\n",
    "        f = f.readlines()\n",
    "        for line in f:\n",
    "            tmp = regex_chn.findall(line)\n",
    "            if not tmp:\n",
    "                continue\n",
    "            line_vec.append(tmp)\n",
    "            group.append(security_group)\n",
    "    return np.asarray(line_vec),group    "
   ]
  },
  {
   "cell_type": "markdown",
   "metadata": {},
   "source": [
    "def parser(path,security_group):\n",
    "    line_vec = [];group=[]\n",
    "    with open(path,'r',encoding='utf8') as f:\n",
    "        f = f.readlines()\n",
    "        for line in f:\n",
    "            tmp = regex_chn.findall(line)\n",
    "            if not tmp:\n",
    "                continue\n",
    "            line_vec.append(tmp)\n",
    "            group.append(security_group)\n",
    "    return np.asarray(line_vec),group    "
   ]
  },
  {
   "cell_type": "code",
   "execution_count": 14,
   "metadata": {},
   "outputs": [],
   "source": [
    "c_vec,c_group = parser(c_path,'C')\n",
    "b_vec,b_group = parser(b_path,'B')\n",
    "# unknown_vec,_= parser(unknown_path,'-')\n",
    "stop_words_vec = load_stop_words()"
   ]
  },
  {
   "cell_type": "code",
   "execution_count": 15,
   "metadata": {},
   "outputs": [],
   "source": [
    "all_vec = np.r_[c_vec,b_vec]\n",
    "j = 1\n",
    "# for content in all_vec :\n",
    "#     print('Index:{}  Content:{}'.format(j,content))\n",
    "#     j = j+1"
   ]
  },
  {
   "cell_type": "code",
   "execution_count": 16,
   "metadata": {},
   "outputs": [],
   "source": [
    "# b_vec_index = list(range(0,c_vec.shape[0]))\n",
    "# c_vec_index = list(range(c_vec.shape[0],c_vec.shape[0]+b_vec.shape[0]))\n",
    "# unknown_vec_index = list(range(c_vec.shape[0]+b_vec.shape[0],c_vec.shape[0]+b_vec.shape[0]+unknown_vec.shape[0]))"
   ]
  },
  {
   "cell_type": "markdown",
   "metadata": {},
   "source": [
    "# 分群 kmeans Clustering"
   ]
  },
  {
   "cell_type": "code",
   "execution_count": 17,
   "metadata": {},
   "outputs": [],
   "source": [
    "new_vec = []\n",
    "for item in all_vec:\n",
    "    string = \" \".join(item)\n",
    "    new_vec.append(string)\n",
    "\n",
    "vectorizer = TfidfVectorizer()\n",
    "X = vectorizer.fit_transform(new_vec)\n",
    "\n",
    "X = X.toarray()\n",
    "\n",
    "#kmeans Clustering\n",
    "\n",
    "# kmeans = KMeans(n_clusters=5, random_state=0).fit(X)\n",
    "# labels = kmeans.predict(X)\n",
    "# print(len(labels))\n",
    "\n",
    "# i = 1\n",
    "\n",
    "# for L in labels:     # 第一个实例\n",
    "#     print('Index:{}  Lebal:{}'.format(i,L))\n",
    "#     i = i+1\n"
   ]
  },
  {
   "cell_type": "markdown",
   "metadata": {},
   "source": [
    "# 分群 Hierarchical Clustering"
   ]
  },
  {
   "cell_type": "code",
   "execution_count": null,
   "metadata": {
    "scrolled": true
   },
   "outputs": [],
   "source": [
    "# Hierarchical Clustering\n",
    "hclust = AgglomerativeClustering(linkage = 'complete', affinity = 'euclidean', n_clusters = 27)\n",
    "\n",
    "# 印出分群結果\n",
    "hclust.fit(X)\n",
    "cluster_labels = hclust.labels_\n",
    "\n",
    "# i = 1\n",
    "\n",
    "# for L in cluster_labels:     # 第一个实例\n",
    "#     print('Index:{}  Lebal:{}'.format(i,L))\n",
    "#     i = i+1\n",
    "\n",
    "# print('------------------------------')\n",
    "# #securityB\n",
    "adj_lebels = np.array(cluster_labels)\n",
    "\n",
    "\n",
    "adj_lebels[adj_lebels == 4] = 99\n",
    "adj_lebels[adj_lebels == 5] = 99\n",
    "adj_lebels[adj_lebels == 8] = 99\n",
    "adj_lebels[adj_lebels == 12] = 99\n",
    "adj_lebels[adj_lebels == 14] = 99\n",
    "adj_lebels[adj_lebels == 15] = 99\n",
    "adj_lebels[adj_lebels == 16] = 99\n",
    "adj_lebels[adj_lebels == 18] = 99\n",
    "adj_lebels[adj_lebels == 21] = 99\n",
    "adj_lebels[adj_lebels == 23] = 99\n",
    "\n",
    "#securityC\n",
    "adj_lebels[adj_lebels == 0] = 88\n",
    "adj_lebels[adj_lebels == 1] = 88\n",
    "adj_lebels[adj_lebels == 2] = 88\n",
    "adj_lebels[adj_lebels == 3] = 88\n",
    "adj_lebels[adj_lebels == 6] = 88\n",
    "adj_lebels[adj_lebels == 7] = 88\n",
    "adj_lebels[adj_lebels == 9] = 88\n",
    "adj_lebels[adj_lebels == 10] = 88\n",
    "adj_lebels[adj_lebels == 11] = 88\n",
    "adj_lebels[adj_lebels == 13] = 88\n",
    "adj_lebels[adj_lebels == 17] = 88\n",
    "adj_lebels[adj_lebels == 19] = 88\n",
    "adj_lebels[adj_lebels == 20] = 88\n",
    "adj_lebels[adj_lebels == 22] = 88\n",
    "adj_lebels[adj_lebels == 24] = 88\n",
    "adj_lebels[adj_lebels == 25] = 88\n",
    "adj_lebels[adj_lebels == 26] = 88\n",
    "\n",
    "# Security B\n",
    "adj_lebels[adj_lebels == 99] = 1\n",
    "# SecurityC\n",
    "adj_lebels[adj_lebels == 88] = 0\n",
    "\n",
    "# i = 1\n",
    "# b = 0\n",
    "# c = 0\n",
    "# for L in adj_lebels:     # 第一个实例\n",
    "#     print('Index:{}  Lebal:{}'.format(i,L))\n",
    "#     if L == 1 :\n",
    "#         b = b + 1\n",
    "#     else :\n",
    "#         c = c + 1\n",
    "#     i = i + 1\n",
    "    \n",
    "# print('b => {}, c => {}'.format(b,c))\n"
   ]
  },
  {
   "cell_type": "markdown",
   "metadata": {},
   "source": [
    "# 分類"
   ]
  },
  {
   "cell_type": "code",
   "execution_count": 19,
   "metadata": {},
   "outputs": [],
   "source": [
    "X_train, X_test, y_train, y_test = train_test_split(X, adj_lebels, test_size=0.2)"
   ]
  },
  {
   "cell_type": "markdown",
   "metadata": {},
   "source": [
    "# LSTM"
   ]
  },
  {
   "cell_type": "code",
   "execution_count": 20,
   "metadata": {},
   "outputs": [],
   "source": [
    "# max_features = 2048\n",
    "# batch_size = 40\n",
    "\n",
    "# model = Sequential()\n",
    "\n",
    "# #堆疊model\n",
    "# model.add(Embedding(max_features, output_dim=256))\n",
    "# model.add(LSTM(128))\n",
    "# model.add(Dropout(0.5))\n",
    "# model.add(Dense(1, activation='sigmoid'))\n",
    "\n",
    "# model.compile(loss='binary_crossentropy',\n",
    "#               optimizer='rmsprop',\n",
    "#               metrics=['accuracy'])\n",
    "\n",
    "# model.fit(X_train, y_train, batch_size=32, epochs=2)\n"
   ]
  },
  {
   "cell_type": "markdown",
   "metadata": {},
   "source": [
    "# ROC Curve"
   ]
  },
  {
   "cell_type": "code",
   "execution_count": 22,
   "metadata": {},
   "outputs": [
    {
     "data": {
      "image/png": "[encoded data removed]",
      "text/plain": [
       "<Figure size 432x288 with 1 Axes>"
      ]
     },
     "metadata": {
      "needs_background": "light"
     },
     "output_type": "display_data"
    },
    {
     "data": {
      "image/png": "[encoded data removed]",
      "text/plain": [
       "<Figure size 432x288 with 1 Axes>"
      ]
     },
     "metadata": {
      "needs_background": "light"
     },
     "output_type": "display_data"
    }
   ],
   "source": [
    "n_estimator = 50\n",
    "#Randon forest\n",
    "rf = RandomForestClassifier(max_depth=None, n_estimators=n_estimator, max_features='auto')\n",
    "rf = rf.fit(X_train,y_train)\n",
    "\n",
    "y_pred_rf = rf.predict_proba(X_test)[:, 1]\n",
    "fpr_rf, tpr_rf, _ = roc_curve(y_test, y_pred_rf)\n",
    "\n",
    "#GBDT\n",
    "gbdt = GradientBoostingClassifier(max_depth=None, n_estimators=n_estimator, max_features='auto')\n",
    "gbdt = gbdt.fit(X_train,y_train)\n",
    "y_pred_gbdt = gbdt.predict_proba(X_test)[:, 1]\n",
    "fpr_gbdt, tpr_gbdt, _ = roc_curve(y_test, y_pred_gbdt)\n",
    "\n",
    "# The random forest model by itself\n",
    "#KNN\n",
    "knn = KNeighborsClassifier(n_neighbors=5, weights= 'distance')\n",
    "knn.fit(X_train, y_train)\n",
    "y_pred_knn = knn.predict_proba(X_test)[:, 1]\n",
    "fpr_knn, tpr_knn, _ = roc_curve(y_test, y_pred_knn)\n",
    "\n",
    "#LSTM\n",
    "# fpr_lstm, tpr_lstm, _ = roc_curve(y_test,lstm_pred_prob)\n",
    "\n",
    "#SVM\n",
    "svc = svm.SVC(C=5.0, kernel='rbf', gamma=0.3, probability=True)\n",
    "svc_fit = svc.fit(X_train, y_train)\n",
    "y_pred_svm = svc.predict_proba(X_test)[:, 1]\n",
    "fpr_svm, tpr_svm, _ = roc_curve(y_test, y_pred_svm)\n",
    "\n",
    "\n",
    "plt.figure(1)\n",
    "plt.plot([0, 1], [0, 1], 'k--')\n",
    "plt.plot(fpr_rf, tpr_rf, label='RF')\n",
    "plt.plot(fpr_gbdt, tpr_gbdt, label='GBT')\n",
    "plt.plot(fpr_knn, tpr_knn, label='KNN')\n",
    "# plt.plot(fpr_lstm, tpr_lstm, label='LSTM')\n",
    "plt.plot(fpr_svm, tpr_svm, label='SVM')\n",
    "\n",
    "plt.xlabel('False positive rate')\n",
    "plt.ylabel('True positive rate')\n",
    "plt.title('ROC curve')\n",
    "plt.legend(loc='best')\n",
    "plt.show()\n",
    "\n",
    "plt.figure(2)\n",
    "plt.xlim(0, 0.8)\n",
    "plt.ylim(0.6, 1)\n",
    "plt.plot([0, 1], [0, 1], 'k--')\n",
    "plt.plot(fpr_rf, tpr_rf, label='RF')\n",
    "plt.plot(fpr_gbdt, tpr_gbdt, label='GBT')\n",
    "plt.plot(fpr_knn, tpr_knn, label='KNN')\n",
    "# plt.plot(fpr_lstm, tpr_lstm, label='LSTM')\n",
    "plt.plot(fpr_svm, tpr_svm, label='SVM')\n",
    "plt.xlabel('False positive rate')\n",
    "plt.ylabel('True positive rate')\n",
    "plt.title('ROC curve (zoomed in at top left)')\n",
    "plt.legend(loc='best')\n",
    "plt.show()"
   ]
  },
  {
   "cell_type": "markdown",
   "metadata": {},
   "source": [
    "# precision and recall score"
   ]
  },
  {
   "cell_type": "code",
   "execution_count": null,
   "metadata": {},
   "outputs": [],
   "source": [
    "y_pred_rf_binary = rf.predict(X_test)\n",
    "y_pred_gbdt_binary = gbdt.predict(X_test)\n",
    "y_pred_knn_binary = knn.predict(X_test)\n",
    "# y_pred_lstm_binary = lstm_pred_binary\n",
    "y_pred_gbdt_binary = gbdt.predict(X_test)\n",
    "y_pred_svm_binary = svc.predict(X_test)\n",
    "\n",
    "\n"
   ]
  },
  {
   "cell_type": "code",
   "execution_count": null,
   "metadata": {},
   "outputs": [],
   "source": [
    "# lstm_pred_binary_ =[]\n",
    "# for item in lstm_pred_binary:\n",
    "#     if item>=0.5:\n",
    "#         lstm_pred_binary_.append(1)\n",
    "#     else:\n",
    "#         lstm_pred_binary_.append(0)\n",
    "# lstm_precision = precision_score(y_test, lstm_pred_binary_)\n",
    "# lstm_recall = recall_score(y_test, lstm_pred_binary_)\n",
    "\n",
    "knn_precision = precision_score(y_test,y_pred_knn_binary)\n",
    "knn_recall = recall_score(y_test,y_pred_knn_binary)\n",
    "\n",
    "gbdt_precision  = precision_score(y_test,y_pred_gbdt_binary)\n",
    "gbdt_recall = recall_score(y_test,y_pred_gbdt_binary)\n",
    "\n",
    "rf_precision = precision_score(y_test, y_pred_rf_binary)\n",
    "rf_recall = recall_score(y_test, y_pred_rf_binary)\n",
    "\n",
    "svm_precision = precision_score(y_test, y_pred_svm_binary)\n",
    "svm_recall = recall_score(y_test, y_pred_svm_binary)\n",
    "\n",
    "\n",
    " \n",
    " \n",
    "print('RandomFirest precision score is {}, recall score is {}'.format(rf_precision,rf_recall))\n",
    "print('GBDT precision score is {}, recall score is {}'.format(gbdt_precision,gbdt_recall))\n",
    "print('KNN precision score is {}, recall score is {}'.format(knn_precision,knn_recall))\n",
    "# print('lstm precision score is {}, recall score is {}'.format(lstm_precision,lstm_recall))\n",
    "print('SVM precision score is {}, recall score is {}'.format(svm_precision,svm_recall))\n",
    "print('-----------------------------------------------------')\n",
    "\n",
    "knn_confusion_matrix = confusion_matrix(y_test, y_pred_knn_binary,labels=[1,0])\n",
    "gbdt_confusion_matrix = confusion_matrix(y_test, y_pred_gbdt_binary,labels=[1,0])\n",
    "rf_confusion_matrix = confusion_matrix(y_test, y_pred_rf_binary,labels=[1,0])\n",
    "svm_confusion_matrix = confusion_matrix(y_test, y_pred_svm_binary,labels=[1,0])\n",
    "# lstm_confusion_matrix = confusion_matrix(y_test, lstm_pred_binary_,labels=[1,0])\n",
    "\n",
    "print(rf_confusion_matrix)\n",
    "print(gbdt_confusion_matrix)\n",
    "print(knn_confusion_matrix)\n",
    "# print(lstm_confusion_matrix)\n",
    "print(svm_confusion_matrix)\n"
   ]
  },
  {
   "cell_type": "code",
   "execution_count": null,
   "metadata": {},
   "outputs": [],
   "source": [
    "endtime = datetime.datetime.now()\n",
    "print ((endtime - starttime).seconds)"
   ]
  },
  {
   "cell_type": "code",
   "execution_count": null,
   "metadata": {},
   "outputs": [],
   "source": [
    "log = open('./data/log.txt', 'a')\n",
    "\n",
    "log.write('RandomFirest precision score is {}, recall score is {} \\n'.format(rf_precision,rf_recall))\n",
    "log.write('GBDT precision score is {}, recall score is {} \\n'.format(gbdt_precision,gbdt_recall))\n",
    "log.write('KNN precision score is {}, recall score is {} \\n'.format(knn_precision,knn_recall))\n",
    "log.write('LSTM precision score is {}, recall score is {} \\n'.format(lstm_precision,lstm_recall))\n",
    "log.write('SVM precision score is {}, recall score is {} \\n'.format(svm_precision,svm_recall))\n",
    "\n",
    "log.write(str(rf_confusion_matrix)+'\\n')\n",
    "log.write(str(gbdt_confusion_matrix)+'\\n')\n",
    "log.write(str(knn_confusion_matrix)+'\\n')\n",
    "log.write(str(lstm_confusion_matrix)+'\\n')\n",
    "log.write(str(svm_confusion_matrix)+'\\n')\n",
    "\n",
    "log.write('-----------{}-----------\\n'.format(datetime.datetime.now()))\n",
    "log.close()"
   ]
  }
 ],
 "metadata": {
  "kernelspec": {
   "display_name": "Python 3",
   "language": "python",
   "name": "python3"
  },
  "language_info": {
   "codemirror_mode": {
    "name": "ipython",
    "version": 3
   },
   "file_extension": ".py",
   "mimetype": "text/x-python",
   "name": "python",
   "nbconvert_exporter": "python",
   "pygments_lexer": "ipython3",
   "version": "3.7.3"
  }
 },
 "nbformat": 4,
 "nbformat_minor": 2
}
